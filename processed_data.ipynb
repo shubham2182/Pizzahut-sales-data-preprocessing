{
 "cells": [
  {
   "cell_type": "markdown",
   "id": "0b2a6d5d-c66d-491f-b3cc-c5c309ee2d54",
   "metadata": {},
   "source": [
    "# Vedio Game Dataset Analysis"
   ]
  },
  {
   "cell_type": "code",
   "execution_count": null,
   "id": "b5f52896-dbeb-424c-b349-3d26e37fd973",
   "metadata": {},
   "outputs": [],
   "source": []
  },
  {
   "cell_type": "code",
   "execution_count": 1,
   "id": "9255fc38-c097-46ed-80a0-4ca0983d5a4b",
   "metadata": {},
   "outputs": [],
   "source": [
    "# Importing pandas\n",
    "import pandas as pd\n"
   ]
  },
  {
   "cell_type": "markdown",
   "id": "496a5a06-7a74-4cd5-9552-01bb93ccd048",
   "metadata": {},
   "source": [
    "**Read csv file**"
   ]
  },
  {
   "cell_type": "code",
   "execution_count": 56,
   "id": "4b398d60-442c-4816-8486-05eea072e792",
   "metadata": {},
   "outputs": [
    {
     "data": {
      "text/html": [
       "<div>\n",
       "<style scoped>\n",
       "    .dataframe tbody tr th:only-of-type {\n",
       "        vertical-align: middle;\n",
       "    }\n",
       "\n",
       "    .dataframe tbody tr th {\n",
       "        vertical-align: top;\n",
       "    }\n",
       "\n",
       "    .dataframe thead th {\n",
       "        text-align: right;\n",
       "    }\n",
       "</style>\n",
       "<table border=\"1\" class=\"dataframe\">\n",
       "  <thead>\n",
       "    <tr style=\"text-align: right;\">\n",
       "      <th></th>\n",
       "      <th>Rank</th>\n",
       "      <th>Name</th>\n",
       "      <th>Platform</th>\n",
       "      <th>Year</th>\n",
       "      <th>Month</th>\n",
       "      <th>Genre</th>\n",
       "      <th>Publisher</th>\n",
       "      <th>Country</th>\n",
       "      <th>City</th>\n",
       "      <th>State</th>\n",
       "      <th>Region</th>\n",
       "      <th>NA_Sales</th>\n",
       "      <th>Global_Sales</th>\n",
       "      <th>NA_Profit</th>\n",
       "      <th>Global_Profit</th>\n",
       "    </tr>\n",
       "  </thead>\n",
       "  <tbody>\n",
       "    <tr>\n",
       "      <th>0</th>\n",
       "      <td>1</td>\n",
       "      <td>Wii Sports</td>\n",
       "      <td>Wii</td>\n",
       "      <td>2010</td>\n",
       "      <td>Jan</td>\n",
       "      <td>Sports</td>\n",
       "      <td>Nintendo</td>\n",
       "      <td>United States</td>\n",
       "      <td>Fairfield</td>\n",
       "      <td>California</td>\n",
       "      <td>West</td>\n",
       "      <td>$41.49</td>\n",
       "      <td>82.74</td>\n",
       "      <td>12.447</td>\n",
       "      <td>24.822</td>\n",
       "    </tr>\n",
       "    <tr>\n",
       "      <th>1</th>\n",
       "      <td>2</td>\n",
       "      <td>Super Mario Bros.</td>\n",
       "      <td>NES</td>\n",
       "      <td>2010</td>\n",
       "      <td>Feb</td>\n",
       "      <td>Platform</td>\n",
       "      <td>Nintendo</td>\n",
       "      <td>United States</td>\n",
       "      <td>Edmonds</td>\n",
       "      <td>Washington</td>\n",
       "      <td>West</td>\n",
       "      <td>$29.08</td>\n",
       "      <td>40.24</td>\n",
       "      <td>8.724</td>\n",
       "      <td>12.072</td>\n",
       "    </tr>\n",
       "    <tr>\n",
       "      <th>2</th>\n",
       "      <td>3</td>\n",
       "      <td>Mario Kart Wii</td>\n",
       "      <td>Wii</td>\n",
       "      <td>2010</td>\n",
       "      <td>Mar</td>\n",
       "      <td>Racing</td>\n",
       "      <td>Nintendo</td>\n",
       "      <td>United States</td>\n",
       "      <td>Louisville</td>\n",
       "      <td>Kentucky</td>\n",
       "      <td>South</td>\n",
       "      <td>$15.85</td>\n",
       "      <td>35.82</td>\n",
       "      <td>4.755</td>\n",
       "      <td>10.746</td>\n",
       "    </tr>\n",
       "    <tr>\n",
       "      <th>3</th>\n",
       "      <td>4</td>\n",
       "      <td>Wii Sports Resort</td>\n",
       "      <td>Wii</td>\n",
       "      <td>2010</td>\n",
       "      <td>Apr</td>\n",
       "      <td>Sports</td>\n",
       "      <td>Nintendo</td>\n",
       "      <td>United States</td>\n",
       "      <td>Round Rock</td>\n",
       "      <td>Texas</td>\n",
       "      <td>Central</td>\n",
       "      <td>$15.75</td>\n",
       "      <td>33.00</td>\n",
       "      <td>4.725</td>\n",
       "      <td>9.900</td>\n",
       "    </tr>\n",
       "    <tr>\n",
       "      <th>4</th>\n",
       "      <td>5</td>\n",
       "      <td>Pokemon Red/Pokemon Blue</td>\n",
       "      <td>GB</td>\n",
       "      <td>2010</td>\n",
       "      <td>May</td>\n",
       "      <td>Role-Playing</td>\n",
       "      <td>Nintendo</td>\n",
       "      <td>United States</td>\n",
       "      <td>Nashville</td>\n",
       "      <td>Tennessee</td>\n",
       "      <td>South</td>\n",
       "      <td>$11.27</td>\n",
       "      <td>31.37</td>\n",
       "      <td>3.381</td>\n",
       "      <td>9.411</td>\n",
       "    </tr>\n",
       "    <tr>\n",
       "      <th>...</th>\n",
       "      <td>...</td>\n",
       "      <td>...</td>\n",
       "      <td>...</td>\n",
       "      <td>...</td>\n",
       "      <td>...</td>\n",
       "      <td>...</td>\n",
       "      <td>...</td>\n",
       "      <td>...</td>\n",
       "      <td>...</td>\n",
       "      <td>...</td>\n",
       "      <td>...</td>\n",
       "      <td>...</td>\n",
       "      <td>...</td>\n",
       "      <td>...</td>\n",
       "      <td>...</td>\n",
       "    </tr>\n",
       "    <tr>\n",
       "      <th>5904</th>\n",
       "      <td>5890</td>\n",
       "      <td>Crazy Taxi: Catch a Ride</td>\n",
       "      <td>GBA</td>\n",
       "      <td>2017</td>\n",
       "      <td>Sep</td>\n",
       "      <td>Racing</td>\n",
       "      <td>THQ</td>\n",
       "      <td>Australia</td>\n",
       "      <td>Sydney</td>\n",
       "      <td>New South Wales</td>\n",
       "      <td>West</td>\n",
       "      <td>0.21</td>\n",
       "      <td>0.30</td>\n",
       "      <td>0.063</td>\n",
       "      <td>0.090</td>\n",
       "    </tr>\n",
       "    <tr>\n",
       "      <th>5905</th>\n",
       "      <td>5891</td>\n",
       "      <td>MySims Party</td>\n",
       "      <td>DS</td>\n",
       "      <td>2017</td>\n",
       "      <td>Oct</td>\n",
       "      <td>Simulation</td>\n",
       "      <td>Electronic Arts</td>\n",
       "      <td>Australia</td>\n",
       "      <td>Sydney</td>\n",
       "      <td>New South Wales</td>\n",
       "      <td>West</td>\n",
       "      <td>0.15</td>\n",
       "      <td>0.30</td>\n",
       "      <td>0.045</td>\n",
       "      <td>0.090</td>\n",
       "    </tr>\n",
       "    <tr>\n",
       "      <th>5906</th>\n",
       "      <td>5892</td>\n",
       "      <td>Harry Potter and the Order of the Phoenix</td>\n",
       "      <td>X360</td>\n",
       "      <td>2017</td>\n",
       "      <td>Nov</td>\n",
       "      <td>Action</td>\n",
       "      <td>Electronic Arts</td>\n",
       "      <td>Australia</td>\n",
       "      <td>Sydney</td>\n",
       "      <td>New South Wales</td>\n",
       "      <td>West</td>\n",
       "      <td>0.24</td>\n",
       "      <td>0.30</td>\n",
       "      <td>0.072</td>\n",
       "      <td>0.090</td>\n",
       "    </tr>\n",
       "    <tr>\n",
       "      <th>5907</th>\n",
       "      <td>5893</td>\n",
       "      <td>Skylanders: SuperChargers</td>\n",
       "      <td>PS4</td>\n",
       "      <td>2017</td>\n",
       "      <td>Dec</td>\n",
       "      <td>Action</td>\n",
       "      <td>Activision</td>\n",
       "      <td>Australia</td>\n",
       "      <td>Sydney</td>\n",
       "      <td>New South Wales</td>\n",
       "      <td>West</td>\n",
       "      <td>0.17</td>\n",
       "      <td>0.30</td>\n",
       "      <td>0.051</td>\n",
       "      <td>0.090</td>\n",
       "    </tr>\n",
       "    <tr>\n",
       "      <th>5908</th>\n",
       "      <td>5894</td>\n",
       "      <td>Macross Digital Mission VF-X</td>\n",
       "      <td>PS</td>\n",
       "      <td>2017</td>\n",
       "      <td>Jan</td>\n",
       "      <td>Simulation</td>\n",
       "      <td>Namco Bandai Games</td>\n",
       "      <td>Australia</td>\n",
       "      <td>Sydney</td>\n",
       "      <td>New South Wales</td>\n",
       "      <td>West</td>\n",
       "      <td>0</td>\n",
       "      <td>0.30</td>\n",
       "      <td>0.000</td>\n",
       "      <td>0.090</td>\n",
       "    </tr>\n",
       "  </tbody>\n",
       "</table>\n",
       "<p>5909 rows × 15 columns</p>\n",
       "</div>"
      ],
      "text/plain": [
       "      Rank                                       Name Platform  Year Month  \\\n",
       "0        1                                 Wii Sports      Wii  2010   Jan   \n",
       "1        2                          Super Mario Bros.      NES  2010   Feb   \n",
       "2        3                             Mario Kart Wii      Wii  2010   Mar   \n",
       "3        4                          Wii Sports Resort      Wii  2010   Apr   \n",
       "4        5                   Pokemon Red/Pokemon Blue       GB  2010   May   \n",
       "...    ...                                        ...      ...   ...   ...   \n",
       "5904  5890                   Crazy Taxi: Catch a Ride      GBA  2017   Sep   \n",
       "5905  5891                               MySims Party       DS  2017   Oct   \n",
       "5906  5892  Harry Potter and the Order of the Phoenix     X360  2017   Nov   \n",
       "5907  5893                  Skylanders: SuperChargers      PS4  2017   Dec   \n",
       "5908  5894               Macross Digital Mission VF-X       PS  2017   Jan   \n",
       "\n",
       "             Genre           Publisher        Country        City  \\\n",
       "0           Sports            Nintendo  United States   Fairfield   \n",
       "1         Platform            Nintendo  United States     Edmonds   \n",
       "2           Racing            Nintendo  United States  Louisville   \n",
       "3           Sports            Nintendo  United States  Round Rock   \n",
       "4     Role-Playing            Nintendo  United States   Nashville   \n",
       "...            ...                 ...            ...         ...   \n",
       "5904        Racing                 THQ      Australia      Sydney   \n",
       "5905    Simulation     Electronic Arts      Australia      Sydney   \n",
       "5906        Action     Electronic Arts      Australia      Sydney   \n",
       "5907        Action          Activision      Australia      Sydney   \n",
       "5908    Simulation  Namco Bandai Games      Australia      Sydney   \n",
       "\n",
       "                State   Region NA_Sales  Global_Sales  NA_Profit  \\\n",
       "0          California     West   $41.49         82.74     12.447   \n",
       "1          Washington     West   $29.08         40.24      8.724   \n",
       "2            Kentucky    South   $15.85         35.82      4.755   \n",
       "3               Texas  Central   $15.75         33.00      4.725   \n",
       "4           Tennessee    South   $11.27         31.37      3.381   \n",
       "...               ...      ...      ...           ...        ...   \n",
       "5904  New South Wales     West     0.21          0.30      0.063   \n",
       "5905  New South Wales     West     0.15          0.30      0.045   \n",
       "5906  New South Wales     West     0.24          0.30      0.072   \n",
       "5907  New South Wales     West     0.17          0.30      0.051   \n",
       "5908  New South Wales     West        0          0.30      0.000   \n",
       "\n",
       "      Global_Profit  \n",
       "0            24.822  \n",
       "1            12.072  \n",
       "2            10.746  \n",
       "3             9.900  \n",
       "4             9.411  \n",
       "...             ...  \n",
       "5904          0.090  \n",
       "5905          0.090  \n",
       "5906          0.090  \n",
       "5907          0.090  \n",
       "5908          0.090  \n",
       "\n",
       "[5909 rows x 15 columns]"
      ]
     },
     "execution_count": 56,
     "metadata": {},
     "output_type": "execute_result"
    }
   ],
   "source": [
    "df=pd.read_csv('VideoGamesSales.csv')\n",
    "df"
   ]
  },
  {
   "cell_type": "code",
   "execution_count": 4,
   "id": "01a034bf-8210-4f32-a9cf-3a28e01b5834",
   "metadata": {},
   "outputs": [
    {
     "name": "stdout",
     "output_type": "stream",
     "text": [
      "<class 'pandas.core.frame.DataFrame'>\n",
      "RangeIndex: 5909 entries, 0 to 5908\n",
      "Data columns (total 15 columns):\n",
      " #   Column         Non-Null Count  Dtype  \n",
      "---  ------         --------------  -----  \n",
      " 0   Rank           5909 non-null   int64  \n",
      " 1   Name           5909 non-null   object \n",
      " 2   Platform       5909 non-null   object \n",
      " 3   Year           5909 non-null   int64  \n",
      " 4   Month          5909 non-null   object \n",
      " 5   Genre          5909 non-null   object \n",
      " 6   Publisher      5897 non-null   object \n",
      " 7   Country        5909 non-null   object \n",
      " 8   City           5909 non-null   object \n",
      " 9   State          5909 non-null   object \n",
      " 10  Region         5882 non-null   object \n",
      " 11  NA_Sales       5909 non-null   object \n",
      " 12  Global_Sales   5909 non-null   float64\n",
      " 13  NA_Profit      5909 non-null   float64\n",
      " 14  Global_Profit  5909 non-null   float64\n",
      "dtypes: float64(3), int64(2), object(10)\n",
      "memory usage: 692.6+ KB\n"
     ]
    }
   ],
   "source": [
    "df.info()"
   ]
  },
  {
   "cell_type": "markdown",
   "id": "00099eb8-3464-475a-86f2-77e7473b2b2b",
   "metadata": {},
   "source": [
    "# Cleaning And Transforming Data"
   ]
  },
  {
   "cell_type": "code",
   "execution_count": 5,
   "id": "d36b8157-738c-4198-9a5b-94759e456497",
   "metadata": {},
   "outputs": [
    {
     "data": {
      "text/plain": [
       "Rank             16\n",
       "Name             16\n",
       "Platform         16\n",
       "Year             16\n",
       "Month            16\n",
       "Genre            16\n",
       "Publisher        16\n",
       "Country          16\n",
       "City             16\n",
       "State            16\n",
       "Region           16\n",
       "NA_Sales         16\n",
       "Global_Sales     16\n",
       "NA_Profit        16\n",
       "Global_Profit    16\n",
       "dtype: int64"
      ]
     },
     "execution_count": 5,
     "metadata": {},
     "output_type": "execute_result"
    }
   ],
   "source": [
    "# REMOVING DUPLICATES\n",
    "df[df.duplicated()].count()"
   ]
  },
  {
   "cell_type": "code",
   "execution_count": 6,
   "id": "88c7fbd8-34b5-4b3d-bfd0-b0e998cb5eb9",
   "metadata": {},
   "outputs": [
    {
     "data": {
      "text/plain": [
       "Rank             0\n",
       "Name             0\n",
       "Platform         0\n",
       "Year             0\n",
       "Month            0\n",
       "Genre            0\n",
       "Publisher        0\n",
       "Country          0\n",
       "City             0\n",
       "State            0\n",
       "Region           0\n",
       "NA_Sales         0\n",
       "Global_Sales     0\n",
       "NA_Profit        0\n",
       "Global_Profit    0\n",
       "dtype: int64"
      ]
     },
     "execution_count": 6,
     "metadata": {},
     "output_type": "execute_result"
    }
   ],
   "source": [
    "df=df.drop_duplicates()\n",
    "df[df.duplicated()].count()"
   ]
  },
  {
   "cell_type": "markdown",
   "id": "51cf349a-b909-4bd2-ad92-26a521d6e137",
   "metadata": {},
   "source": [
    "**Removing Null Values**"
   ]
  },
  {
   "cell_type": "code",
   "execution_count": 18,
   "id": "95f8960e-ec1d-4623-bd78-f78719089fca",
   "metadata": {},
   "outputs": [
    {
     "data": {
      "text/plain": [
       "Rank              0\n",
       "Name              0\n",
       "Platform          0\n",
       "Year              0\n",
       "Month             0\n",
       "Genre             0\n",
       "Publisher        12\n",
       "Country           0\n",
       "City              0\n",
       "State             0\n",
       "Region           27\n",
       "NA_Sales          0\n",
       "Global_Sales      0\n",
       "NA_Profit         0\n",
       "Global_Profit     0\n",
       "dtype: int64"
      ]
     },
     "execution_count": 18,
     "metadata": {},
     "output_type": "execute_result"
    }
   ],
   "source": [
    "df.isnull().sum()"
   ]
  },
  {
   "cell_type": "code",
   "execution_count": 19,
   "id": "fd4e9157-80bb-44ea-b38c-e1c675f9787d",
   "metadata": {},
   "outputs": [
    {
     "name": "stderr",
     "output_type": "stream",
     "text": [
      "C:\\Users\\Asus\\AppData\\Local\\Temp\\ipykernel_10232\\2344204057.py:1: FutureWarning: A value is trying to be set on a copy of a DataFrame or Series through chained assignment using an inplace method.\n",
      "The behavior will change in pandas 3.0. This inplace method will never work because the intermediate object on which we are setting values always behaves as a copy.\n",
      "\n",
      "For example, when doing 'df[col].method(value, inplace=True)', try using 'df.method({col: value}, inplace=True)' or df[col] = df[col].method(value) instead, to perform the operation inplace on the original object.\n",
      "\n",
      "\n",
      "  df['Region'].fillna('North',inplace=True)\n"
     ]
    },
    {
     "data": {
      "text/plain": [
       "Rank              0\n",
       "Name              0\n",
       "Platform          0\n",
       "Year              0\n",
       "Month             0\n",
       "Genre             0\n",
       "Publisher        12\n",
       "Country           0\n",
       "City              0\n",
       "State             0\n",
       "Region            0\n",
       "NA_Sales          0\n",
       "Global_Sales      0\n",
       "NA_Profit         0\n",
       "Global_Profit     0\n",
       "dtype: int64"
      ]
     },
     "execution_count": 19,
     "metadata": {},
     "output_type": "execute_result"
    }
   ],
   "source": [
    "# Filling null with va;ues \n",
    "df['Region'].fillna('North',inplace=True)\n",
    "df.isnull().sum()"
   ]
  },
  {
   "cell_type": "code",
   "execution_count": 23,
   "id": "a95dc837-e771-4ccf-ab26-7949f5e296b4",
   "metadata": {},
   "outputs": [
    {
     "data": {
      "text/plain": [
       "Rank             0\n",
       "Name             0\n",
       "Platform         0\n",
       "Year             0\n",
       "Month            0\n",
       "Genre            0\n",
       "Publisher        0\n",
       "Country          0\n",
       "City             0\n",
       "State            0\n",
       "Region           0\n",
       "NA_Sales         0\n",
       "Global_Sales     0\n",
       "NA_Profit        0\n",
       "Global_Profit    0\n",
       "dtype: int64"
      ]
     },
     "execution_count": 23,
     "metadata": {},
     "output_type": "execute_result"
    }
   ],
   "source": [
    "# dropping null values\n",
    "df=df.dropna()\n",
    "df.isnull().sum()"
   ]
  },
  {
   "cell_type": "markdown",
   "id": "a28220c0-8282-4940-a353-e9bbbcf017ed",
   "metadata": {},
   "source": [
    "**Spellings Checks**"
   ]
  },
  {
   "cell_type": "code",
   "execution_count": 24,
   "id": "120e6a0d-6a80-4b9d-87d2-b64bb3102d9d",
   "metadata": {},
   "outputs": [
    {
     "data": {
      "text/plain": [
       "0     United States\n",
       "1     United States\n",
       "2     United States\n",
       "3     United States\n",
       "4     United States\n",
       "5               USA\n",
       "6               USA\n",
       "7               USA\n",
       "8               USA\n",
       "9               USA\n",
       "10              USA\n",
       "11              USA\n",
       "12              USA\n",
       "13              USA\n",
       "14              USA\n",
       "Name: Country, dtype: object"
      ]
     },
     "execution_count": 24,
     "metadata": {},
     "output_type": "execute_result"
    }
   ],
   "source": [
    "df.loc[:,'Country']=df['Country'].replace({'United State':'United States'})\n",
    "df['Country'].head(15)"
   ]
  },
  {
   "cell_type": "code",
   "execution_count": 25,
   "id": "8f67aaff-5fac-40d7-a3cc-1a26aec2b221",
   "metadata": {},
   "outputs": [
    {
     "data": {
      "text/plain": [
       "0     United States\n",
       "1     United States\n",
       "2     United States\n",
       "3     United States\n",
       "4     United States\n",
       "5     United States\n",
       "6     United States\n",
       "7     United States\n",
       "8     United States\n",
       "9     United States\n",
       "10    United States\n",
       "11    United States\n",
       "12    United States\n",
       "13    United States\n",
       "14    United States\n",
       "Name: Country, dtype: object"
      ]
     },
     "execution_count": 25,
     "metadata": {},
     "output_type": "execute_result"
    }
   ],
   "source": [
    "df.loc[:,'Country']=df['Country'].replace({'USA':'United States'})\n",
    "df['Country'].head(15)"
   ]
  },
  {
   "cell_type": "markdown",
   "id": "daf9ee0f-0e5e-4453-92ec-7fdda5a495c8",
   "metadata": {},
   "source": [
    "**Formating Data Types**"
   ]
  },
  {
   "cell_type": "code",
   "execution_count": 26,
   "id": "5c18c560-3acb-4b59-a3f1-a43d8db34c63",
   "metadata": {},
   "outputs": [
    {
     "data": {
      "text/plain": [
       "Rank               int64\n",
       "Name              object\n",
       "Platform          object\n",
       "Year               int64\n",
       "Month             object\n",
       "Genre             object\n",
       "Publisher         object\n",
       "Country           object\n",
       "City              object\n",
       "State             object\n",
       "Region            object\n",
       "NA_Sales          object\n",
       "Global_Sales     float64\n",
       "NA_Profit        float64\n",
       "Global_Profit    float64\n",
       "dtype: object"
      ]
     },
     "execution_count": 26,
     "metadata": {},
     "output_type": "execute_result"
    }
   ],
   "source": [
    "df.dtypes"
   ]
  },
  {
   "cell_type": "code",
   "execution_count": 29,
   "id": "5565425d-8c10-4ce9-b597-56a24e3cccbf",
   "metadata": {},
   "outputs": [],
   "source": [
    "df.loc[:,'NA_Sales']=pd.to_numeric(df['NA_Sales'],errors='coerce')"
   ]
  },
  {
   "cell_type": "code",
   "execution_count": 50,
   "id": "590dcb28-f22f-4c82-854c-d4dcd38dc11e",
   "metadata": {},
   "outputs": [],
   "source": [
    "df.loc[:,'Month']=pd.to_datetime(df['Month'],format='%b',errors='coerce')"
   ]
  },
  {
   "cell_type": "code",
   "execution_count": 51,
   "id": "6ca39897-d6c6-4485-b5f9-1fd30eb2cead",
   "metadata": {},
   "outputs": [
    {
     "data": {
      "text/plain": [
       "Rank                      int64\n",
       "Name                     object\n",
       "Platform                 object\n",
       "Year             datetime64[ns]\n",
       "Month            datetime64[ns]\n",
       "Genre                    object\n",
       "Publisher                object\n",
       "Country                  object\n",
       "City                     object\n",
       "State                    object\n",
       "Region                   object\n",
       "NA_Sales                float64\n",
       "Global_Sales            float64\n",
       "NA_Profit               float64\n",
       "Global_Profit           float64\n",
       "Date             datetime64[ns]\n",
       "dtype: object"
      ]
     },
     "execution_count": 51,
     "metadata": {},
     "output_type": "execute_result"
    }
   ],
   "source": [
    "df.dtypes"
   ]
  },
  {
   "cell_type": "code",
   "execution_count": null,
   "id": "442c7ccc-895c-4d31-a446-7f3677e2241a",
   "metadata": {},
   "outputs": [],
   "source": []
  }
 ],
 "metadata": {
  "kernelspec": {
   "display_name": "Python 3 (ipykernel)",
   "language": "python",
   "name": "python3"
  },
  "language_info": {
   "codemirror_mode": {
    "name": "ipython",
    "version": 3
   },
   "file_extension": ".py",
   "mimetype": "text/x-python",
   "name": "python",
   "nbconvert_exporter": "python",
   "pygments_lexer": "ipython3",
   "version": "3.13.0"
  }
 },
 "nbformat": 4,
 "nbformat_minor": 5
}
